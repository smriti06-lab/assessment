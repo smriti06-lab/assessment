{
  "nbformat": 4,
  "nbformat_minor": 0,
  "metadata": {
    "colab": {
      "provenance": [],
      "collapsed_sections": []
    },
    "kernelspec": {
      "name": "python3",
      "display_name": "Python 3"
    },
    "language_info": {
      "name": "python"
    }
  },
  "cells": [
    {
      "cell_type": "markdown",
      "source": [
        "Snapcommerce CoderByte Assessment "
      ],
      "metadata": {
        "id": "5e6acIzbWaJU"
      }
    },
    {
      "cell_type": "code",
      "source": [
        "data = 'Airline Code;DelayTimes;FlightCodes;To_From\\nAir Canada (!);[21, 40];20015.0;WAterLoo_NEWYork\\n<Air France> (12);[];;Montreal_TORONTO\\n(Porter Airways. );[60, 22, 87];20035.0;CALgary_Ottawa\\n12. Air France;[78, 66];;Ottawa_VANcouvER\\n\"\"\".\\\\.Lufthansa.\\\\.\"\"\";[12, 33];20055.0;london_MONTreal\\n'"
      ],
      "metadata": {
        "id": "TFD5hAG3WgbG"
      },
      "execution_count": 1,
      "outputs": []
    },
    {
      "cell_type": "code",
      "source": [
        "# split into rows\n",
        "lines = data.split(\"\\n\")\n",
        "lines.pop()   # remove the last element of the list as it was a new line\n",
        "lines"
      ],
      "metadata": {
        "colab": {
          "base_uri": "https://localhost:8080/"
        },
        "id": "NR7-SUhSWtVn",
        "outputId": "e07ddb92-91a4-4527-a3b6-a2b985861ada"
      },
      "execution_count": 2,
      "outputs": [
        {
          "output_type": "execute_result",
          "data": {
            "text/plain": [
              "['Airline Code;DelayTimes;FlightCodes;To_From',\n",
              " 'Air Canada (!);[21, 40];20015.0;WAterLoo_NEWYork',\n",
              " '<Air France> (12);[];;Montreal_TORONTO',\n",
              " '(Porter Airways. );[60, 22, 87];20035.0;CALgary_Ottawa',\n",
              " '12. Air France;[78, 66];;Ottawa_VANcouvER',\n",
              " '\"\"\".\\\\.Lufthansa.\\\\.\"\"\";[12, 33];20055.0;london_MONTreal']"
            ]
          },
          "metadata": {},
          "execution_count": 2
        }
      ]
    },
    {
      "cell_type": "code",
      "source": [
        "# split into columns\n",
        "cols = []\n",
        "for i in range(len(lines)):\n",
        "  temp = []\n",
        "  temp = lines[i].split(\";\")\n",
        "  cols.append(temp)\n",
        "\n",
        "for i in range(len(cols)):\n",
        "  print(cols[i])"
      ],
      "metadata": {
        "colab": {
          "base_uri": "https://localhost:8080/"
        },
        "id": "HJqgrFHwXfwZ",
        "outputId": "d9d08d20-6f8f-4f4b-c355-2e7a1be7f1a1"
      },
      "execution_count": 3,
      "outputs": [
        {
          "output_type": "stream",
          "name": "stdout",
          "text": [
            "['Airline Code', 'DelayTimes', 'FlightCodes', 'To_From']\n",
            "['Air Canada (!)', '[21, 40]', '20015.0', 'WAterLoo_NEWYork']\n",
            "['<Air France> (12)', '[]', '', 'Montreal_TORONTO']\n",
            "['(Porter Airways. )', '[60, 22, 87]', '20035.0', 'CALgary_Ottawa']\n",
            "['12. Air France', '[78, 66]', '', 'Ottawa_VANcouvER']\n",
            "['\"\"\".\\\\.Lufthansa.\\\\.\"\"\"', '[12, 33]', '20055.0', 'london_MONTreal']\n"
          ]
        }
      ]
    },
    {
      "cell_type": "code",
      "source": [
        "# fix the order of the columns\n",
        "print(len(cols))\n",
        "print(cols[0][0])"
      ],
      "metadata": {
        "colab": {
          "base_uri": "https://localhost:8080/"
        },
        "id": "WC50Ap0RX6X5",
        "outputId": "67db65a0-bac6-4625-f64a-f27720553530"
      },
      "execution_count": 4,
      "outputs": [
        {
          "output_type": "stream",
          "name": "stdout",
          "text": [
            "6\n",
            "Airline Code\n"
          ]
        }
      ]
    },
    {
      "cell_type": "code",
      "source": [
        "# split to and from\n",
        "table = []\n",
        "\n",
        "for i in range(len(cols)):\n",
        "  temp = cols[i][0]\n",
        "  cols[i][0] = cols[i][2]\n",
        "  cols[i][2] = temp\n",
        "  cols[i][1] = cols[i][3]\n",
        "  cols[i].pop()\n",
        "  row = []\n",
        "  row.append(cols[i][0])\n",
        "  to_from = cols[i][1].split(\"_\")\n",
        "  row.append(to_from[0])\n",
        "  row.append(to_from[1])\n",
        "  row.append(cols[i][2])\n",
        "  table.append(row)\n",
        "\n",
        "table"
      ],
      "metadata": {
        "colab": {
          "base_uri": "https://localhost:8080/"
        },
        "id": "vlsoSeCbdQX8",
        "outputId": "4c936a11-6537-40b8-f0b7-4f58a3be43a8"
      },
      "execution_count": 5,
      "outputs": [
        {
          "output_type": "execute_result",
          "data": {
            "text/plain": [
              "[['FlightCodes', 'To', 'From', 'Airline Code'],\n",
              " ['20015.0', 'WAterLoo', 'NEWYork', 'Air Canada (!)'],\n",
              " ['', 'Montreal', 'TORONTO', '<Air France> (12)'],\n",
              " ['20035.0', 'CALgary', 'Ottawa', '(Porter Airways. )'],\n",
              " ['', 'Ottawa', 'VANcouvER', '12. Air France'],\n",
              " ['20055.0', 'london', 'MONTreal', '\"\"\".\\\\.Lufthansa.\\\\.\"\"\"']]"
            ]
          },
          "metadata": {},
          "execution_count": 5
        }
      ]
    },
    {
      "cell_type": "code",
      "source": [
        "# fix individual values\n",
        "for i in range(1, len(table)):\n",
        "  # fix FlightCodes\n",
        "  if (table[i][0]):\n",
        "    table[i][0] = int (float(table[i][0]))\n",
        "  else:\n",
        "    table[i][0] = table[i - 1][0] + 10\n",
        "  \n",
        "  # Fix To Values\n",
        "  x = len(table[i][1])\n",
        "  temp = table[i][1]\n",
        "  st = \"\"\n",
        "  for j in range(x):\n",
        "    if ord(temp[j]) == 32 or (ord(temp[j]) <= 122 and ord(temp[j]) >= 97) or (ord(temp[j]) <= 90 and ord(temp[j]) >= 65):\n",
        "      st +=temp[j]\n",
        "    else:\n",
        "      continue\n",
        "  table[i][1] = st.upper()\n",
        "\n",
        "  # Fix From Values\n",
        "  x = len(table[i][2])\n",
        "  temp = table[i][2]\n",
        "  st = \"\"\n",
        "  for j in range(x):\n",
        "    if ord(temp[j]) == 32 or (ord(temp[j]) <= 122 and ord(temp[j]) >= 97) or (ord(temp[j]) <= 90 and ord(temp[j]) >= 65):\n",
        "      st +=temp[j]\n",
        "    else:\n",
        "      continue\n",
        "  table[i][2] = st.upper()\n",
        "\n",
        "  # Fix Airline Code Values \n",
        "  x = len(table[i][3])\n",
        "  temp = table[i][3]\n",
        "  st = \"\"\n",
        "  for j in range(x):\n",
        "    # print(temp[j], \"\\t\", ord(temp[j]))\n",
        "    if ord(temp[j]) == 32 or (ord(temp[j]) <= 122 and ord(temp[j]) >= 97) or (ord(temp[j]) <= 90 and ord(temp[j]) >= 65):\n",
        "      st +=temp[j] \n",
        "  table[i][3] = st\n",
        "\n",
        "table"
      ],
      "metadata": {
        "colab": {
          "base_uri": "https://localhost:8080/"
        },
        "id": "mG5A5v1Rdn_8",
        "outputId": "cd706a17-1edf-4458-edb9-ade87e96d3ac"
      },
      "execution_count": 6,
      "outputs": [
        {
          "output_type": "execute_result",
          "data": {
            "text/plain": [
              "[['FlightCodes', 'To', 'From', 'Airline Code'],\n",
              " [20015, 'WATERLOO', 'NEWYORK', 'Air Canada '],\n",
              " [20025, 'MONTREAL', 'TORONTO', 'Air France '],\n",
              " [20035, 'CALGARY', 'OTTAWA', 'Porter Airways '],\n",
              " [20045, 'OTTAWA', 'VANCOUVER', ' Air France'],\n",
              " [20055, 'LONDON', 'MONTREAL', 'Lufthansa']]"
            ]
          },
          "metadata": {},
          "execution_count": 6
        }
      ]
    },
    {
      "cell_type": "code",
      "source": [
        "for i in range(1, len(table)):\n",
        "  # Fix Airline Code Values \n",
        "  x = len(table[i][3])\n",
        "  temp = table[i][3]\n",
        "  st = \"\"\n",
        "  for j in range(x):\n",
        "    if (ord(temp[j]) <= 122 and ord(temp[j]) >= 97) or (ord(temp[j]) <= 90 and ord(temp[j]) >= 65):\n",
        "      st +=temp[j]\n",
        "    if ord(temp[j]) == 32:\n",
        "      if j != 0 and j != x - 1:\n",
        "        st += temp[j] \n",
        "  table[i][3] = st\n",
        "\n",
        "table"
      ],
      "metadata": {
        "colab": {
          "base_uri": "https://localhost:8080/"
        },
        "id": "o406FnjQhXpD",
        "outputId": "6031d085-adf3-48cf-8e87-cbb33ea704f7"
      },
      "execution_count": 7,
      "outputs": [
        {
          "output_type": "execute_result",
          "data": {
            "text/plain": [
              "[['FlightCodes', 'To', 'From', 'Airline Code'],\n",
              " [20015, 'WATERLOO', 'NEWYORK', 'Air Canada'],\n",
              " [20025, 'MONTREAL', 'TORONTO', 'Air France'],\n",
              " [20035, 'CALGARY', 'OTTAWA', 'Porter Airways'],\n",
              " [20045, 'OTTAWA', 'VANCOUVER', 'Air France'],\n",
              " [20055, 'LONDON', 'MONTREAL', 'Lufthansa']]"
            ]
          },
          "metadata": {},
          "execution_count": 7
        }
      ]
    },
    {
      "cell_type": "code",
      "source": [
        "# create a table\n",
        "import pandas as pd\n",
        "df = pd.DataFrame (table, columns = table[0])\n",
        "print (df.iloc[1:, :])"
      ],
      "metadata": {
        "colab": {
          "base_uri": "https://localhost:8080/"
        },
        "id": "cCu0XmhArgDr",
        "outputId": "77783aac-3e93-415f-b870-e0010bdf1fcb"
      },
      "execution_count": 8,
      "outputs": [
        {
          "output_type": "stream",
          "name": "stdout",
          "text": [
            "  FlightCodes        To       From    Airline Code\n",
            "1       20015  WATERLOO    NEWYORK      Air Canada\n",
            "2       20025  MONTREAL    TORONTO      Air France\n",
            "3       20035   CALGARY     OTTAWA  Porter Airways\n",
            "4       20045    OTTAWA  VANCOUVER      Air France\n",
            "5       20055    LONDON   MONTREAL       Lufthansa\n"
          ]
        }
      ]
    }
  ]
}